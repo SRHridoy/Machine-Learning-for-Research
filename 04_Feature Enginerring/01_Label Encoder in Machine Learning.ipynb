{
 "cells": [
  {
   "cell_type": "markdown",
   "id": "f76b4a4b",
   "metadata": {},
   "source": [
    "# **Label Encoder**"
   ]
  },
  {
   "cell_type": "code",
   "execution_count": 8,
   "id": "bbcd2c34",
   "metadata": {},
   "outputs": [],
   "source": [
    "instances = ['ClassA','ClassB','ClassC','ClassD','ClassA','ClassB','ClassC','ClassD','ClassA','ClassB','ClassE',]"
   ]
  },
  {
   "cell_type": "code",
   "execution_count": 9,
   "id": "8f7ccdb2",
   "metadata": {},
   "outputs": [],
   "source": [
    "from sklearn.preprocessing import LabelEncoder"
   ]
  },
  {
   "cell_type": "code",
   "execution_count": 10,
   "id": "4161f4b2",
   "metadata": {},
   "outputs": [],
   "source": [
    "label_encoder = LabelEncoder()"
   ]
  },
  {
   "cell_type": "code",
   "execution_count": null,
   "id": "8e8fab87",
   "metadata": {},
   "outputs": [
    {
     "data": {
      "text/plain": [
       "array([0, 1, 2, 3, 0, 1, 2, 3, 0, 1, 4], dtype=int64)"
      ]
     },
     "execution_count": 12,
     "metadata": {},
     "output_type": "execute_result"
    }
   ],
   "source": [
    "encodeded_labels = label_encoder.fit_transform(instances)\n",
    "encodeded_labels"
   ]
  },
  {
   "cell_type": "code",
   "execution_count": 13,
   "id": "8f1689ed",
   "metadata": {},
   "outputs": [
    {
     "data": {
      "text/plain": [
       "array(['ClassA', 'ClassB', 'ClassC', 'ClassD', 'ClassA', 'ClassB',\n",
       "       'ClassC', 'ClassD', 'ClassA', 'ClassB', 'ClassE'], dtype='<U6')"
      ]
     },
     "execution_count": 13,
     "metadata": {},
     "output_type": "execute_result"
    }
   ],
   "source": [
    "original_labels = label_encoder.inverse_transform(encodeded_labels)\n",
    "original_labels"
   ]
  },
  {
   "cell_type": "code",
   "execution_count": null,
   "id": "d9bc5d6f",
   "metadata": {},
   "outputs": [],
   "source": []
  }
 ],
 "metadata": {
  "kernelspec": {
   "display_name": "base",
   "language": "python",
   "name": "python3"
  },
  "language_info": {
   "codemirror_mode": {
    "name": "ipython",
    "version": 3
   },
   "file_extension": ".py",
   "mimetype": "text/x-python",
   "name": "python",
   "nbconvert_exporter": "python",
   "pygments_lexer": "ipython3",
   "version": "3.12.7"
  }
 },
 "nbformat": 4,
 "nbformat_minor": 5
}
